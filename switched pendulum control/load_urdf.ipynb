{
 "cells": [
  {
   "cell_type": "code",
   "execution_count": null,
   "metadata": {
    "collapsed": true
   },
   "outputs": [],
   "source": [
    "\n",
    "using RigidBodyDynamics\n",
    "\n",
    "#urdf = joinpath(\"kuka.urdf\")\n",
    "#urdf=joinpath(\"quadrotor.urdf\")\n",
    "urdf=joinpath(\"data\\mumanoid\\nao.urdf\")\n",
    "mechanism = parse_urdf(urdf)"
   ]
  },
  {
   "cell_type": "code",
   "execution_count": 8,
   "metadata": {},
   "outputs": [
    {
     "name": "stderr",
     "output_type": "stream",
     "text": [
      "┌ Info: Serving MeshCat visualizer at http://127.0.0.1:8703\n",
      "└ @ MeshCat /home/yue/.julia/packages/MeshCat/GlxLQ/src/servers.jl:7\n",
      "┌ Info: Listening on: Sockets.InetAddr{Sockets.IPv4}(ip\"127.0.0.1\", 0x21ff)\n",
      "└ @ HTTP.Servers /home/yue/.julia/packages/HTTP/YjRCz/src/Servers.jl:301\n",
      "┌ Info: Accept (0):  🔗    0↑     0↓    0s 127.0.0.1:8703:8703 ≣16\n",
      "└ @ HTTP.Servers /home/yue/.julia/packages/HTTP/YjRCz/src/Servers.jl:343\n",
      "┌ Info: Accept (1):  🔗    0↑     0↓    0s 127.0.0.1:8703:8703 ≣16\n",
      "└ @ HTTP.Servers /home/yue/.julia/packages/HTTP/YjRCz/src/Servers.jl:343\n",
      "[16599:16638:1201/230001.555498:ERROR:browser_gpu_channel_host_factory.cc(121)] Failed to launch GPU process.\n"
     ]
    },
    {
     "name": "stdout",
     "output_type": "stream",
     "text": [
      "Created new window in existing browser session.\n"
     ]
    },
    {
     "name": "stderr",
     "output_type": "stream",
     "text": [
      "┌ Info: Accept (2):  🔗    0↑     0↓    0s 127.0.0.1:8703:8703 ≣16\n",
      "└ @ HTTP.Servers /home/yue/.julia/packages/HTTP/YjRCz/src/Servers.jl:343\n",
      "Error handling websocket connection:\n",
      "\u001b[91mWebSockets.WebSocketClosedError(\"ws|server respond to OPCODE_CLOSE 1001:Going Away\")\u001b[39m┌ Info: Closed (2):  💀    1↑     1↓🔒  37s 127.0.0.1:8703:8703 ≣16\n",
      "└ @ HTTP.Servers /home/yue/.julia/packages/HTTP/YjRCz/src/Servers.jl:351\n",
      "┌ Info: Closed (0):  💀    3↑     3↓🔒 341s 127.0.0.1:8701:8701 ≣16\n",
      "└ @ HTTP.Servers /home/yue/.julia/packages/HTTP/YjRCz/src/Servers.jl:351\n",
      "┌ Info: Closed (1):  💀    2↑     2↓🔒 341s 127.0.0.1:8701:8701 ≣16\n",
      "└ @ HTTP.Servers /home/yue/.julia/packages/HTTP/YjRCz/src/Servers.jl:351\n",
      "┌ Info: Closed (1):  💀    2↑     2↓🔒 310s 127.0.0.1:8702:8702 ≣16\n",
      "└ @ HTTP.Servers /home/yue/.julia/packages/HTTP/YjRCz/src/Servers.jl:351\n",
      "┌ Info: Closed (0):  💀    3↑     3↓🔒 310s 127.0.0.1:8702:8702 ≣16\n",
      "└ @ HTTP.Servers /home/yue/.julia/packages/HTTP/YjRCz/src/Servers.jl:351\n"
     ]
    }
   ],
   "source": [
    "using MeshCatMechanisms\n",
    "mvis = MechanismVisualizer(mechanism, URDFVisuals(urdf))\n",
    "open(mvis);"
   ]
  },
  {
   "cell_type": "code",
   "execution_count": null,
   "metadata": {
    "collapsed": true
   },
   "outputs": [],
   "source": []
  }
 ],
 "metadata": {
  "@webio": {
   "lastCommId": "594FFBF53077415688D72DB4A865F30B",
   "lastKernelId": "28621cf6-fc57-479f-8749-a59d471a57a0"
  },
  "kernelspec": {
   "display_name": "Julia 1.0.0",
   "language": "julia",
   "name": "julia-1.0"
  },
  "language_info": {
   "file_extension": ".jl",
   "mimetype": "application/julia",
   "name": "julia",
   "version": "1.0.0"
  }
 },
 "nbformat": 4,
 "nbformat_minor": 2
}
